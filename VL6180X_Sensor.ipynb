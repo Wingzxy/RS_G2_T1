{
 "cells": [
  {
   "cell_type": "markdown",
   "metadata": {
    "button": false,
    "run_control": {
     "read_only": false
    }
   },
   "source": [
    "# Lab 4: Line Following"
   ]
  },
  {
   "cell_type": "markdown",
   "metadata": {
    "button": false,
    "run_control": {
     "read_only": false
    }
   },
   "source": [
    "In previous lab sessions, you have:\n",
    "- Seen the standard Arduino sketch, which has the structure of setup() and loop() routines.\n",
    "- Experimented with Arduino Example sketches\n",
    "- Uploaded sketches to your Romi robot.\n",
    "- Experimented with Serial commands to view debug output from your code.\n",
    "- Experimented with millis() and running blocks of code at different time intervals.\n",
    "- Controlled the power of the two Romi motors with analogWrite()\n",
    "\n",
    "\n",
    "\n",
    "\n",
    "This labsheet will enable your Romi to follow a line on the floor.  The methods presented in this labsheet are basic, and more advanced techniques are discussed in later labsheets.  You may find that the methods of this labsheet are enough to secure up to 70% performance on the coursework assessment.\n",
    "\n",
    "In this lab, we will introduce the QTR-3A Reflectance Sensor Array and use it to develop a basic system which can follow lines.  More information on this sensor is available <a href=\"https://www.pololu.com/product/4243\">here</a>.  This labsheet also introduces the concept of a `class` when writing code.  After this labsheet, you may wish to go back and implement a class for your motor control.  \n",
    "    \n",
    "Each sensor array consists of three pairs of an Infra-red LED and Phototransistor, a single pair shown in the circuit on the right:"
   ]
  },
    
    
