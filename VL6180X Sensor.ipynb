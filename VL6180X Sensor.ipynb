{
 "cells": [
  {
   "cell_type": "markdown",
   "metadata": {
    "button": false,
    "run_control": {
     "read_only": false
    }
   },
   "source": [
    "# VL6180X proximity Sensor"
   ]
  },
  {
   "cell_type": "markdown",
   "metadata": {
    "button": false,
    "run_control": {
     "read_only": false
    }
   },
   "source": [
    "From the Supplementary labsheet we have:\n",
    "-<a href=\"https://github.com/paulodowd/EMATM0054_20_21/blob/master/Labsheets/Supplementary/SL2_ProximitySensor.ipynb\">Labsheet 2:Proximity and Ambient Light</a>
    "-[]\n"
    "-[]()\n"\"https://www.pololu.com/product/4243\"
