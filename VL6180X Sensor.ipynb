{
 "cells": [
  {
   "cell_type": "markdown",
   "metadata": {
    "button": false,
    "run_control": {
     "read_only": false
    }
   },
   "source": [
    "# VL6180X proximity Sensor"
   ]
  },
  {
   "cell_type": "markdown",
   "metadata": {
    "button": false,
    "run_control": {
     "read_only": false
    }
   },
   "source": [
    "From the Supplementary labsheet we have:\n",
    
    
