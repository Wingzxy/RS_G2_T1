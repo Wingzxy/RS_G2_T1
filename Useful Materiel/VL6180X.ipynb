
{
 "cells": [
  {
   "cell_type": "markdown",
   "metadata": {
    "button": false,
    "run_control": {
     "read_only": false
    }
   },
   "source": [
    "From the Labsheets that Paul uploaded on github,we have:\n",
    "-Labsheet 2 Proximity and Ambient Light\n",
    "-VL1680X Data sheet\n",
    "-Pololu:VL1680X Product Page and Resources",
    "-Pololi:VL1680X Arduino LiBrary"
 ]
},
